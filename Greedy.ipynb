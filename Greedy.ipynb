{
  "nbformat": 4,
  "nbformat_minor": 0,
  "metadata": {
    "colab": {
      "provenance": [],
      "authorship_tag": "ABX9TyPwRuBtHfSJT0w+M5Fs+SZe",
      "include_colab_link": true
    },
    "kernelspec": {
      "name": "python3",
      "display_name": "Python 3"
    },
    "language_info": {
      "name": "python"
    }
  },
  "cells": [
    {
      "cell_type": "markdown",
      "metadata": {
        "id": "view-in-github",
        "colab_type": "text"
      },
      "source": [
        "<a href=\"https://colab.research.google.com/github/aghniyaaj/Informed_Search/blob/main/Greedy.ipynb\" target=\"_parent\"><img src=\"https://colab.research.google.com/assets/colab-badge.svg\" alt=\"Open In Colab\"/></a>"
      ]
    },
    {
      "cell_type": "markdown",
      "source": [
        "GREEDY SEARCH"
      ],
      "metadata": {
        "id": "76DfZ_M5j_E0"
      }
    },
    {
      "cell_type": "code",
      "source": [
        "from queue import PriorityQueue\n",
        "\n",
        "# Fungsi untuk algoritma Greedy Best-First Search\n",
        "def greedy_search(graph, heuristic, start, goal):\n",
        "    frontier = PriorityQueue()  # Antrian prioritas untuk menyimpan simpul yang akan dieksplorasi\n",
        "    frontier.put((heuristic[start], start))  # Menambahkan simpul awal dengan nilai prioritas heuristik\n",
        "    came_from = {}  # Menyimpan jejak jalur\n",
        "    came_from[start] = None\n",
        "    explored = set()  # Set untuk menyimpan simpul yang sudah dieksplorasi\n",
        "\n",
        "    while not frontier.empty():\n",
        "        _, current_node = frontier.get()  # Ambil simpul dengan prioritas terendah (heuristik terkecil)\n",
        "\n",
        "        if current_node == goal:\n",
        "            print(\"Simpul tujuan ditemukan!\")\n",
        "            route = reconstruct_path(came_from, start, goal)\n",
        "            print(\"Jalur terpendek:\", \" → \".join(route))\n",
        "            return True\n",
        "\n",
        "        explored.add(current_node)  # Tandai sebagai dieksplorasi\n",
        "\n",
        "        for neighbor in graph.get(current_node, []):\n",
        "            if neighbor not in explored:\n",
        "                frontier.put((heuristic[neighbor], neighbor))  # Prioritas berdasarkan nilai heuristik\n",
        "                came_from[neighbor] = current_node  # Simpan jejak jalur\n",
        "\n",
        "    print(\"Simpul tujuan tidak ditemukan!\")\n",
        "    return False\n",
        "\n",
        "# Fungsi untuk merekonstruksi jalur dari start ke goal\n",
        "def reconstruct_path(came_from, start, goal):\n",
        "    current = goal\n",
        "    path = [current]\n",
        "    while current != start:\n",
        "        current = came_from[current]\n",
        "        path.append(current)\n",
        "    path.reverse()  # Karena jalur direkam dari goal ke start\n",
        "    return path\n",
        "\n",
        "# Daftar heuristik untuk setiap simpul\n",
        "heuristic = {\n",
        "    'A': 4,\n",
        "    'B': 3,\n",
        "    'C': 3,\n",
        "    'D': 1,\n",
        "    'S': 6,\n",
        "    'G': 0\n",
        "}\n",
        "\n",
        "# Graf (direpresentasikan sebagai adjacency list)\n",
        "graph = {\n",
        "    'S': ['A', 'B'],\n",
        "    'A': ['B', 'D'],\n",
        "    'B': ['C', 'D'],\n",
        "    'C': ['D', 'G'],\n",
        "    'D': ['G']\n",
        "}\n",
        "\n",
        "# Titik awal dan tujuan\n",
        "start_node = 'S'\n",
        "goal_node = 'G'\n",
        "\n",
        "# Panggil fungsi greedy search\n",
        "greedy_search(graph, heuristic, start_node, goal_node)"
      ],
      "metadata": {
        "id": "hbZHXXBIshDg",
        "outputId": "eaa3b790-074a-46e0-a2e5-4c49371c3530",
        "colab": {
          "base_uri": "https://localhost:8080/"
        }
      },
      "execution_count": null,
      "outputs": [
        {
          "output_type": "stream",
          "name": "stdout",
          "text": [
            "Simpul tujuan ditemukan!\n",
            "Jalur terpendek: S → B → D → G\n"
          ]
        },
        {
          "output_type": "execute_result",
          "data": {
            "text/plain": [
              "True"
            ]
          },
          "metadata": {},
          "execution_count": 3
        }
      ]
    }
  ]
}